{
 "cells": [
  {
   "cell_type": "code",
   "execution_count": 1,
   "id": "ee852f8c-cdcf-4806-8864-194deb7ffc3e",
   "metadata": {},
   "outputs": [],
   "source": [
    "import matplotlib.pyplot as plt\n",
    "import numpy as np\n",
    "import pandas as pd\n",
    "import seaborn as sns\n",
    "import scipy.stats as sp\n",
    "\n",
    "pd.set_option(\"display.max_columns\", 85)\n",
    "pd.set_option(\"display.max_rows\", 85)\n",
    "sns.set_theme(context=\"paper\", font_scale=1.5, style=\"ticks\", rc={\"axes.grid\": True})"
   ]
  },
  {
   "cell_type": "code",
   "execution_count": 2,
   "id": "58bf3929-7c35-4874-83ee-360118ff4912",
   "metadata": {},
   "outputs": [],
   "source": [
    "# Read Features Data (NEW from PP)\n",
    "df = pd.read_csv(\"./data/features_and_response.noscale.csv\", index_col=0)\n",
    "\n",
    "# Drop NaNs\n",
    "df.dropna(inplace=True)\n",
    "\n",
    "\n",
    "# Collect Features and Labels\n",
    "features_df = pd.DataFrame()\n",
    "conf = df.drop(labels=[\"response\", \"occ_total_sum\", \"oldest_phylostratum\"], axis=1)\n",
    "features_df[\"occ_total_sum\"] = df[\"occ_total_sum\"]\n",
    "features_df[\"oldest_phylostratum\"] = df[\"oldest_phylostratum\"]\n",
    "features_df = pd.concat([features_df, conf], axis=1)\n",
    "\n",
    "\n",
    "# Old and New response both in this DF\n",
    "response = pd.read_csv(\"./data/old_and_new_response.csv\", index_col=0)\n",
    "\n",
    "# Read phenotype data\n",
    "pheno_old_df = pd.read_csv(\"./data/2019_pheno.csv\", index_col=0)\n",
    "pheno_df = pd.read_csv(\"./data/2022_pheno.csv\", index_col=0)"
   ]
  },
  {
   "cell_type": "code",
   "execution_count": 4,
   "id": "fc88cee5-e668-423e-ac4c-52a177d7f7dc",
   "metadata": {},
   "outputs": [],
   "source": [
    "X = features_df.to_numpy()"
   ]
  },
  {
   "cell_type": "markdown",
   "id": "fa3dd042-5b2d-4d78-a17e-dcdaa8d31309",
   "metadata": {},
   "source": [
    "### Custom Scoring: Area Under Precision Recall Curve"
   ]
  },
  {
   "cell_type": "code",
   "execution_count": 16,
   "id": "083f8a41-153b-4b04-bff7-0d0f67af2c54",
   "metadata": {},
   "outputs": [],
   "source": [
    "from sklearn.metrics import auc, make_scorer, precision_recall_curve\n",
    "\n",
    "def auprc(y_true, y_scores, **kwargs):\n",
    "    \"\"\" Remember to use make_scorer(auprc, needs_proba=True,) when feeding to SKL's GSCV.\"\"\"\n",
    "    precisions, recalls, thresholds = precision_recall_curve(y_true, y_scores)\n",
    "    # results is area under x=Recall and y=Precision curve. \n",
    "    return auc(recalls, precisions)"
   ]
  },
  {
   "cell_type": "markdown",
   "id": "4e57e44c-5de2-4a77-b966-4ca7dcca8195",
   "metadata": {},
   "source": [
    "### ML Modules"
   ]
  },
  {
   "cell_type": "code",
   "execution_count": 5,
   "id": "01e0cf40-68e9-48f0-a9c5-4316061e12b3",
   "metadata": {},
   "outputs": [],
   "source": [
    "from imblearn.ensemble import BalancedRandomForestClassifier\n",
    "from imblearn.over_sampling import RandomOverSampler\n",
    "from scipy.stats import sem\n",
    "from sklearn.decomposition import PCA\n",
    "from sklearn.metrics import roc_auc_score\n",
    "from sklearn.pipeline import Pipeline\n",
    "from sklearn.preprocessing import StandardScaler"
   ]
  },
  {
   "cell_type": "markdown",
   "id": "6c7532b9-1451-47a9-8248-40b2af7ac275",
   "metadata": {
    "jp-MarkdownHeadingCollapsed": true,
    "tags": []
   },
   "source": [
    "## Generic Phenotype (\"phenotypic abnormality\") (Old)"
   ]
  },
  {
   "cell_type": "code",
   "execution_count": 6,
   "id": "a7f5c660-8c53-49d1-b0d6-e43a8f5e8627",
   "metadata": {},
   "outputs": [],
   "source": [
    "# Model as Pipeline\n",
    "rf_clf = Pipeline([\n",
    "    (\"scaler\", StandardScaler()),\n",
    "    (\"rf\", BalancedRandomForestClassifier(n_jobs=-1, \n",
    "                                          min_samples_leaf=10, \n",
    "                                          min_samples_split=10, \n",
    "                                          n_estimators=1000,\n",
    "                                         ),\n",
    "    ),\n",
    "])\n",
    "\n",
    "# Parameters\n",
    "np.random.seed(2)  # Random seed\n",
    "\n",
    "y = response[\"response\"].to_numpy()\n",
    "    \n",
    "# Fit and predict \n",
    "rf_clf.fit(X, y)\n",
    "pred = rf_clf.predict_proba(X)[:, 1]"
   ]
  },
  {
   "cell_type": "code",
   "execution_count": 10,
   "id": "bd93f2ae-da74-4435-b575-970adcaee135",
   "metadata": {},
   "outputs": [],
   "source": [
    "# Save to file\n",
    "gen_pheno_pred_df = pd.DataFrame(pred, index=pheno_df.index)\n",
    "gen_pheno_pred_df.to_csv(\"./results/abnormal_phenotype_probas_2019.csv\")"
   ]
  },
  {
   "cell_type": "code",
   "execution_count": 11,
   "id": "8ba8478f-8e33-4d8a-a54a-5d26df7a817b",
   "metadata": {},
   "outputs": [
    {
     "data": {
      "text/plain": [
       "0.9376903064798611"
      ]
     },
     "execution_count": 11,
     "metadata": {},
     "output_type": "execute_result"
    }
   ],
   "source": [
    "# Score (in-sample)\n",
    "roc_auc_score(y, pred)"
   ]
  },
  {
   "cell_type": "markdown",
   "id": "a6250c1d-8742-41b0-a079-a70c1a7980fc",
   "metadata": {
    "jp-MarkdownHeadingCollapsed": true,
    "tags": []
   },
   "source": [
    "## Generic Phenotype (\"phenotypic abnormality\") (New)"
   ]
  },
  {
   "cell_type": "code",
   "execution_count": 12,
   "id": "0e8a899c-7c29-44d9-8c6c-6424c4707dc3",
   "metadata": {},
   "outputs": [],
   "source": [
    "# Model as Pipeline\n",
    "rf_clf = Pipeline([\n",
    "    (\"scaler\", StandardScaler()),\n",
    "    (\"rf\", BalancedRandomForestClassifier(n_jobs=-1, \n",
    "                                          min_samples_leaf=10, \n",
    "                                          min_samples_split=10, \n",
    "                                          n_estimators=1000,\n",
    "                                         ),),\n",
    "])\n",
    "\n",
    "# Parameters\n",
    "np.random.seed(2)  # Random seed\n",
    "\n",
    "y = response[\"updated_response\"].to_numpy()\n",
    "    \n",
    "# Fit and predict \n",
    "rf_clf.fit(X, y)\n",
    "pred = rf_clf.predict_proba(X)[:, 1]"
   ]
  },
  {
   "cell_type": "code",
   "execution_count": 13,
   "id": "8ce98607-1301-499b-943e-8a52808a0c68",
   "metadata": {},
   "outputs": [],
   "source": [
    "# Save to file\n",
    "gen_pheno_pred_df = pd.DataFrame(pred, index=pheno_df.index)\n",
    "gen_pheno_pred_df.to_csv(\"./results/abnormal_phenotype_probas_2022.csv.csv\")"
   ]
  },
  {
   "cell_type": "code",
   "execution_count": 14,
   "id": "6d3dfc0c-2dc8-460e-9839-ff60d66d9983",
   "metadata": {},
   "outputs": [
    {
     "data": {
      "text/plain": [
       "0.9405071970968933"
      ]
     },
     "execution_count": 14,
     "metadata": {},
     "output_type": "execute_result"
    }
   ],
   "source": [
    "# Score (in-sample)\n",
    "roc_auc_score(y, pred)"
   ]
  },
  {
   "cell_type": "markdown",
   "id": "8248e138-62a2-40c6-9afa-c751e29ef996",
   "metadata": {
    "jp-MarkdownHeadingCollapsed": true,
    "tags": []
   },
   "source": [
    "## All Phenotypes (Old)"
   ]
  },
  {
   "cell_type": "code",
   "execution_count": 17,
   "id": "4e44f7c4-c37b-4d03-94f5-93001c23c7fe",
   "metadata": {
    "tags": []
   },
   "outputs": [
    {
     "name": "stdout",
     "output_type": "stream",
     "text": [
      "Fitting random forest to all phenotypes.\n",
      "\n",
      "0\n",
      "100\n",
      "200\n",
      "300\n",
      "400\n",
      "500\n",
      "600\n",
      "700\n",
      "800\n",
      "900\n",
      "1000\n",
      "1100\n"
     ]
    }
   ],
   "source": [
    "# Model as Pipeline\n",
    "rf_clf = Pipeline([\n",
    "    (\"scaler\", StandardScaler()),\n",
    "    (\"rf\", BalancedRandomForestClassifier(n_jobs=-1, \n",
    "                                          min_samples_leaf=10, \n",
    "                                          min_samples_split=10, \n",
    "                                          n_estimators=1000,\n",
    "                                         ),),\n",
    "])\n",
    "\n",
    "print(\"Fitting random forest to all phenotypes.\\n\")\n",
    "\n",
    "# Parameters\n",
    "np.random.seed(0)  # Random seed\n",
    "\n",
    "preds = []\n",
    "roc_scores = []\n",
    "pr_scores = []\n",
    "# Loop over phenotypes\n",
    "for i in range(pheno_old_df.shape[1]):\n",
    "\n",
    "    # Select phenotype\n",
    "    y = pheno_old_df.iloc[:, i].to_numpy()\n",
    "    \n",
    "    # Fit and predict \n",
    "    rf_clf.fit(X, y)\n",
    "    pred = rf_clf.predict_proba(X)[:, 1]\n",
    "    preds.append(pred)\n",
    "    \n",
    "    # Score\n",
    "    roc_scores.append(roc_auc_score(y, pred))\n",
    "    pr_scores.append(auprc(y, pred))\n",
    "\n",
    "    if (i%100==0): print(i)"
   ]
  },
  {
   "cell_type": "code",
   "execution_count": 24,
   "id": "bf498ef1-2a6a-4c0c-a4d3-0541d8027972",
   "metadata": {},
   "outputs": [],
   "source": [
    "pheno_old_pred_df = pd.DataFrame(preds, index=pheno_old_df.columns, columns=pheno_old_df.index)\n",
    "pheno_old_score_df = pd.DataFrame(zip(roc_scores, pr_scores), index=pheno_old_df.columns, columns=[\"roc_auc\", \"pr_auc\"])\n",
    "pheno_old_pred_df.to_csv(\"./results/all_phenotypes_probas_2019.csv\")\n",
    "pheno_old_score_df.to_csv(\"./results/all_phenotypes_scores_2019.csv\")"
   ]
  },
  {
   "cell_type": "markdown",
   "id": "bf59f53c-899b-4885-980b-4a3dea355230",
   "metadata": {
    "jp-MarkdownHeadingCollapsed": true,
    "tags": []
   },
   "source": [
    "## All Phenotypes (New)"
   ]
  },
  {
   "cell_type": "code",
   "execution_count": 25,
   "id": "891ed929-8f70-4408-a539-ba80f336c9be",
   "metadata": {
    "scrolled": true,
    "tags": []
   },
   "outputs": [
    {
     "name": "stdout",
     "output_type": "stream",
     "text": [
      "Fitting random forest to all phenotypes.\n",
      "\n",
      "0\n",
      "100\n",
      "200\n",
      "300\n",
      "400\n",
      "500\n",
      "600\n",
      "700\n",
      "800\n",
      "900\n",
      "1000\n",
      "1100\n",
      "1200\n",
      "1300\n"
     ]
    }
   ],
   "source": [
    "from imblearn.ensemble import BalancedRandomForestClassifier\n",
    "from imblearn.over_sampling import RandomOverSampler\n",
    "from scipy.stats import sem\n",
    "from sklearn.decomposition import PCA\n",
    "from sklearn.metrics import roc_auc_score\n",
    "from sklearn.pipeline import Pipeline\n",
    "from sklearn.preprocessing import StandardScaler\n",
    "\n",
    "# Model as Pipeline\n",
    "rf_clf = Pipeline([\n",
    "    (\"scaler\", StandardScaler()),\n",
    "    (\"rf\", BalancedRandomForestClassifier(n_jobs=-1, \n",
    "                                          min_samples_leaf=10, \n",
    "                                          min_samples_split=10, \n",
    "                                          n_estimators=1000,\n",
    "                                         ),),\n",
    "])\n",
    "\n",
    "print(\"Fitting random forest to all phenotypes.\\n\")\n",
    "\n",
    "# Parameters\n",
    "np.random.seed(0)  # Random seed\n",
    "\n",
    "preds = []\n",
    "roc_scores = []\n",
    "pr_scores = []\n",
    "# Loop over phenotypes\n",
    "for i in range(pheno_df.shape[1]):\n",
    "\n",
    "    # Select phenotype\n",
    "    y = pheno_df.iloc[:, i].to_numpy()\n",
    "    \n",
    "    # Fit and predict \n",
    "    rf_clf.fit(X, y)\n",
    "    pred = rf_clf.predict_proba(X)[:, 1]\n",
    "    preds.append(pred)\n",
    "    \n",
    "        # Score\n",
    "    roc_scores.append(roc_auc_score(y, pred))\n",
    "    pr_scores.append(auprc(y, pred))\n",
    "    \n",
    "    if (i%100==0): print(i)"
   ]
  },
  {
   "cell_type": "code",
   "execution_count": null,
   "id": "ba129a56-14e8-4333-8ea4-2996576861e3",
   "metadata": {},
   "outputs": [],
   "source": [
    "pheno_new_pred_df = pd.DataFrame(preds, index=pheno_df.columns, columns=pheno_df.index)\n",
    "pheno_new_score_df = pd.DataFrame(zip(roc_scores, pr_scores), index=pheno_df.columns, columns=[\"roc_auc\", \"pr_auc\"])\n",
    "pheno_new_pred_df.to_csv(\"./results/all_phenotypes_probas_2022.csv\")\n",
    "pheno_new_score_df.to_csv(\"./results/all_phenotypes_scores_2022.csv\")"
   ]
  },
  {
   "cell_type": "code",
   "execution_count": 4,
   "id": "1a3719e5-6130-4136-8f11-60d35d40e94d",
   "metadata": {},
   "outputs": [
    {
     "data": {
      "text/plain": [
       "roc_auc    0.914538\n",
       "pr_auc     0.292994\n",
       "dtype: float64"
      ]
     },
     "execution_count": 4,
     "metadata": {},
     "output_type": "execute_result"
    }
   ],
   "source": [
    "scores_df = pd.read_csv(\"./results/all_phenotypes_scores_2022.csv\", index_col=0)\n",
    "\n",
    "scores_df.mean()"
   ]
  },
  {
   "cell_type": "code",
   "execution_count": null,
   "id": "39418f42-615d-4306-a86a-9a320785134f",
   "metadata": {},
   "outputs": [],
   "source": []
  }
 ],
 "metadata": {
  "kernelspec": {
   "display_name": "Python 3 (ipykernel)",
   "language": "python",
   "name": "python3"
  },
  "language_info": {
   "codemirror_mode": {
    "name": "ipython",
    "version": 3
   },
   "file_extension": ".py",
   "mimetype": "text/x-python",
   "name": "python",
   "nbconvert_exporter": "python",
   "pygments_lexer": "ipython3",
   "version": "3.8.11"
  }
 },
 "nbformat": 4,
 "nbformat_minor": 5
}
