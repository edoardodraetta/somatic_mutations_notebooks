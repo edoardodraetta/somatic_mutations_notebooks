{
 "cells": [
  {
   "cell_type": "code",
   "execution_count": null,
   "id": "214f84bd-0c86-41c9-a2a5-efc812e302b4",
   "metadata": {},
   "outputs": [],
   "source": [
    "import matplotlib.pyplot as plt\n",
    "import numpy as np\n",
    "import pandas as pd\n",
    "import seaborn as sns\n",
    "from sklearn import set_config\n",
    "\n",
    "pd.set_option(\"display.max_columns\", 85)\n",
    "sns.set_theme(context=\"paper\", font_scale=1.5, style=\"ticks\", rc={\"axes.grid\": True})\n",
    "set_config(display=\"diagram\")"
   ]
  },
  {
   "cell_type": "markdown",
   "id": "fa753616-dec4-44ed-94c4-64c789f65a96",
   "metadata": {
    "tags": []
   },
   "source": [
    "# AdaBoosting: Scoring by Nested Cross-Validation"
   ]
  },
  {
   "cell_type": "markdown",
   "id": "8e9ecb30-6130-48aa-93f6-ab4c10a2d5d3",
   "metadata": {
    "tags": []
   },
   "source": [
    "### Load the data"
   ]
  },
  {
   "cell_type": "code",
   "execution_count": null,
   "id": "43a45ac4-ee4c-412c-85f0-7a88d1a1246b",
   "metadata": {},
   "outputs": [],
   "source": [
    "# Read Data (NEW from PP)\n",
    "df = pd.read_csv(\"../data/new_abnormal_writeout_noscale.data.csv\", index_col=0)\n",
    "\n",
    "# Drop NaNs\n",
    "df.dropna(inplace=True)\n",
    "\n",
    "# Collect Features and Labels\n",
    "features_df = pd.DataFrame()\n",
    "conf = df.drop(labels=[\"response\", \"occ_total_sum\", \"oldest_phylostratum\"], axis=1)\n",
    "\n",
    "features_df[\"occ_total_sum\"] = df[\"occ_total_sum\"]\n",
    "features_df[\"oldest_phylostratum\"] = df[\"oldest_phylostratum\"]\n",
    "features_df = pd.concat([features_df, conf], axis=1)\n",
    "\n",
    "X = features_df.to_numpy()\n",
    "y = df[\"response\"].to_numpy()\n",
    "\n",
    "features_df"
   ]
  },
  {
   "cell_type": "markdown",
   "id": "e07affbc-7ae0-4be9-bd44-e0eb109853dd",
   "metadata": {
    "tags": []
   },
   "source": [
    "*** \n",
    "## Nested CV on Gradient Boosted Trees"
   ]
  },
  {
   "cell_type": "markdown",
   "id": "f49f0bc2-f408-49de-af87-c59668ae8e67",
   "metadata": {
    "tags": []
   },
   "source": [
    "### The Model and its Parameter Space"
   ]
  },
  {
   "cell_type": "code",
   "execution_count": null,
   "id": "6e704d33-7fe7-4a53-9be0-84793561b9c2",
   "metadata": {},
   "outputs": [],
   "source": [
    "from sklearn.pipeline import Pipeline\n",
    "from sklearn.preprocessing import StandardScaler\n",
    "from sklearn.ensemble import AdaBoostClassifier\n",
    "from sklearn.compose import ColumnTransformer\n",
    "from sklearn.decomposition import PCA\n",
    "\n",
    "# Confounder PCA\n",
    "confpca = ColumnTransformer([\n",
    "    (\"ots+of\", \"passthrough\", [0, 1]), \n",
    "    (\"conf\", PCA(), slice(2, X.shape[1]))\n",
    "])\n",
    "\n",
    "# Parameter Grid\n",
    "main_params = {\n",
    "    \"gb__learning_rate\": [0.5, 1, 1.5],\n",
    "    \"gb__n_estimators\": [50, 100, 200],\n",
    "}\n",
    "\n",
    "pca_on = {'pca': [confpca], 'pca__conf__n_components': [None, 0.01, 0.95]}\n",
    "pca_off = {'pca': ['passthrough'],}\n",
    "\n",
    "param_grid = [{**main_params, **pca_on}, {**main_params, **pca_off}]\n",
    "\n",
    "# Define the model to be tuned\n",
    "adab_clf = Pipeline([\n",
    "    (\"scaler\", StandardScaler()),\n",
    "    (\"pca\", confpca),\n",
    "    (\"gb\", AdaBoostClassifier()),\n",
    "])\n",
    "\n",
    "adab_clf"
   ]
  },
  {
   "cell_type": "markdown",
   "id": "196811aa-9d31-40d1-adad-f5a420c70708",
   "metadata": {},
   "source": [
    "### Nested CV"
   ]
  },
  {
   "cell_type": "code",
   "execution_count": null,
   "id": "7916ccc5-47d6-415f-86d2-581008f22a19",
   "metadata": {
    "tags": []
   },
   "outputs": [],
   "source": [
    "from sklearn.exceptions import ConvergenceWarning, FitFailedWarning\n",
    "from sklearn.metrics import f1_score, precision_score, recall_score, roc_auc_score\n",
    "from sklearn.model_selection import GridSearchCV, KFold, cross_val_score, RepeatedKFold\n",
    "from sklearn.utils._testing import ignore_warnings\n",
    "from sklearn.model_selection import train_test_split\n",
    "\n",
    "\n",
    "# configure the cross-validation procedure\n",
    "np.random.seed(3)\n",
    "model = adab_clf\n",
    "k_outer = 10\n",
    "k_inner = 3\n",
    "cv_outer = KFold(n_splits=k_outer, shuffle=True, random_state=1)\n",
    "cv_inner = KFold(n_splits=k_inner, shuffle=True, random_state=3)\n",
    "\n",
    "# To store results\n",
    "roc_results = list()\n",
    "found_params = list()\n",
    "\n",
    "print(f\"Performing nested-cv with {k_outer} outer-folds and {k_inner} inner-folds.\\n\")\n",
    "print(\"OUTER CV | BEST OF INNER CV | CHOSEN PARAMS\")\n",
    "\n",
    "for train_ix, test_ix in cv_outer.split(X):\n",
    "\n",
    "    # split data\n",
    "    X_tr, X_te = X[train_ix, :], X[test_ix, :]\n",
    "    y_tr, y_te = y[train_ix], y[test_ix]\n",
    "\n",
    "    # If some parameter combinations are incompatible:\n",
    "    # with ignore_warnings(category=[ConvergenceWarning, FitFailedWarning]):\n",
    "    \n",
    "    # define search\n",
    "    search = GridSearchCV(estimator=model, param_grid=param_grid, scoring=\"roc_auc\", cv=cv_inner, n_jobs=4)\n",
    "    \n",
    "    # execute search\n",
    "    result = search.fit(X_tr, y_tr)\n",
    "        \n",
    "    # get the best performing model fit on the whole training set\n",
    "    best_model = result.best_estimator_\n",
    "\n",
    "    # evaluate model on the hold out dataset\n",
    "    # yhat = best_model.predict(X_te)\n",
    "    yhat = best_model.predict_proba(X_te)[:,1]\n",
    "\n",
    "    # evaluate the model\n",
    "    roc_auc = roc_auc_score(y_te, yhat)\n",
    "    \n",
    "    # store the result\n",
    "    roc_results.append(roc_auc)\n",
    "    found_params.append(result.best_params_)\n",
    "\n",
    "    # report progress\n",
    "    print(\">roc-auc=%.3f, est=%.3f, params=%s\" % (roc_auc, result.best_score_, result.best_params_))\n",
    "\n",
    "# summarize the estimated performance of the model\n",
    "print(\"ROC-AUC: %.3f (std = %.3f)\" % (np.mean(roc_results), np.std(roc_results)))"
   ]
  },
  {
   "cell_type": "code",
   "execution_count": null,
   "id": "43e3d79f-3fe3-4a38-88ae-ba9139511cf5",
   "metadata": {},
   "outputs": [],
   "source": [
    "ncv_df = pd.DataFrame(roc_results, columns=['roc_auc'])\n",
    "ncv_df = pd.concat([ncv_df, pd.DataFrame(found_params)], axis=1)\n",
    "ncv_df"
   ]
  },
  {
   "cell_type": "code",
   "execution_count": null,
   "id": "0da281e7-de2e-41b8-b297-5a04b8d2def8",
   "metadata": {},
   "outputs": [],
   "source": [
    "ncv_df[\"roc_auc\"].mean()"
   ]
  },
  {
   "cell_type": "code",
   "execution_count": null,
   "id": "b2f3b388-799d-4333-8c67-6a1624b2dd8a",
   "metadata": {},
   "outputs": [],
   "source": [
    "ncv_df.to_csv(\"./data/gb_ncv.csv\")"
   ]
  }
 ],
 "metadata": {
  "kernelspec": {
   "display_name": "Python 3 (ipykernel)",
   "language": "python",
   "name": "python3"
  },
  "language_info": {
   "codemirror_mode": {
    "name": "ipython",
    "version": 3
   },
   "file_extension": ".py",
   "mimetype": "text/x-python",
   "name": "python",
   "nbconvert_exporter": "python",
   "pygments_lexer": "ipython3",
   "version": "3.8.11"
  }
 },
 "nbformat": 4,
 "nbformat_minor": 5
}
