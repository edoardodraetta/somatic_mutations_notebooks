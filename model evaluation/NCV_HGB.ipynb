{
 "cells": [
  {
   "cell_type": "code",
   "execution_count": 1,
   "id": "2b94814d-532e-47b7-a089-505a22c781fd",
   "metadata": {},
   "outputs": [],
   "source": [
    "import matplotlib.pyplot as plt\n",
    "import numpy as np\n",
    "import pandas as pd\n",
    "import seaborn as sns\n",
    "from sklearn import set_config\n",
    "\n",
    "pd.set_option(\"display.max_columns\", 85)\n",
    "sns.set_theme(context=\"paper\", font_scale=1.5, style=\"ticks\", rc={\"axes.grid\": True})\n",
    "set_config(display=\"diagram\")"
   ]
  },
  {
   "cell_type": "markdown",
   "id": "72bb1442-7291-4641-93d3-e313a5f3d1bd",
   "metadata": {
    "tags": []
   },
   "source": [
    "# Hist Gradient Boosting: Scoring by Nested Cross-Validation"
   ]
  },
  {
   "cell_type": "markdown",
   "id": "dc785afb-4d9f-4965-ad5c-af73a89705e5",
   "metadata": {
    "tags": []
   },
   "source": [
    "### Load the data"
   ]
  },
  {
   "cell_type": "code",
   "execution_count": null,
   "id": "6b340695-6630-4c9d-8cf5-cbb5f0b8dd6d",
   "metadata": {},
   "outputs": [],
   "source": [
    "# Read Data (NEW from PP)\n",
    "df = pd.read_csv(\"../data/new_abnormal_writeout_noscale.data.csv\", index_col=0)\n",
    "\n",
    "# Drop NaNs\n",
    "df.dropna(inplace=True)\n",
    "\n",
    "# Collect Features and Labels\n",
    "features_df = pd.DataFrame()\n",
    "conf = df.drop(labels=[\"response\", \"occ_total_sum\", \"oldest_phylostratum\"], axis=1)\n",
    "\n",
    "features_df[\"occ_total_sum\"] = df[\"occ_total_sum\"]\n",
    "features_df[\"oldest_phylostratum\"] = df[\"oldest_phylostratum\"]\n",
    "features_df = pd.concat([features_df, conf], axis=1)\n",
    "\n",
    "X = features_df.to_numpy()\n",
    "y = df[\"response\"].to_numpy()\n",
    "\n",
    "features_df"
   ]
  },
  {
   "cell_type": "markdown",
   "id": "84d9f56c-5fd2-44ce-81d0-09545988d06f",
   "metadata": {
    "tags": []
   },
   "source": [
    "*** \n",
    "## Nested CV on Gradient Boosted Trees"
   ]
  },
  {
   "cell_type": "markdown",
   "id": "e3d583d6-c56e-440e-9cf1-b14b970d49cd",
   "metadata": {
    "tags": []
   },
   "source": [
    "### The Model and its Parameter Space"
   ]
  },
  {
   "cell_type": "code",
   "execution_count": null,
   "id": "780b67f3-f532-4a31-b8a3-9c2f79423471",
   "metadata": {},
   "outputs": [],
   "source": [
    "from sklearn.pipeline import Pipeline\n",
    "from sklearn.preprocessing import StandardScaler\n",
    "from sklearn.ensemble import HistGradientBoostingClassifier\n",
    "from sklearn.compose import ColumnTransformer\n",
    "from sklearn.decomposition import PCA\n",
    "\n",
    "# Confounder PCA\n",
    "confpca = ColumnTransformer([\n",
    "    (\"ots+of\", \"passthrough\", [0, 1]), \n",
    "    (\"conf\", PCA(), slice(2, X.shape[1]))\n",
    "])\n",
    "\n",
    "# Parameter Grid\n",
    "main_params = {\n",
    "    \"gb__learning_rate\": [0.01, 0.1, 1,], # default = 0.1\n",
    "    \"gb__max_depth\": [None, 5, 10, 20], # default = None\n",
    "    \"gb__min_samples_leaf\": [1, 2, 5, 10, 20], # default = 20\n",
    "    \"gb__max_leaf_nodes\": [None, 31], # default = 31\n",
    "    \"gb__max_iter\": [100, 300, 500,] # default = 100\n",
    "}\n",
    "\n",
    "pca_on = {'pca': [confpca], 'pca__conf__n_components': [None, 0.95]}\n",
    "pca_off = {'pca': ['passthrough'],}\n",
    "\n",
    "param_grid = [{**main_params, **pca_on}, {**main_params, **pca_off}]\n",
    "\n",
    "\n",
    "# Define the model to be tuned\n",
    "hgb_clf = Pipeline([\n",
    "    (\"scaler\", StandardScaler()),\n",
    "    (\"pca\", confpca),\n",
    "    (\"gb\", HistGradientBoostingClassifier(early_stopping=True, scoring=\"roc_auc\", n_iter_no_change=10, tol=1e-5)),\n",
    "])\n",
    "\n",
    "hgb_clf"
   ]
  },
  {
   "cell_type": "markdown",
   "id": "dba48e8a-9839-4819-9d4a-4fd12601eeaf",
   "metadata": {
    "tags": []
   },
   "source": [
    "### Nested CV"
   ]
  },
  {
   "cell_type": "code",
   "execution_count": null,
   "id": "c1c9ae11-473a-4dee-964d-63c585a231e7",
   "metadata": {
    "tags": []
   },
   "outputs": [],
   "source": [
    "from sklearn.metrics import roc_auc_score\n",
    "from sklearn.model_selection import GridSearchCV, KFold, cross_val_score\n",
    "from sklearn.model_selection import train_test_split\n",
    "\n",
    "# configure the cross-validation procedure\n",
    "np.random.seed(0)\n",
    "model = hgb_clf\n",
    "k_outer = 10\n",
    "k_inner = 3\n",
    "cv_outer = KFold(n_splits=k_outer, shuffle=True, random_state=1)\n",
    "cv_inner = KFold(n_splits=k_inner, shuffle=True, random_state=3)\n",
    "\n",
    "# To store results\n",
    "roc_results = list()\n",
    "found_params = list()\n",
    "\n",
    "print(f\"Performing nested-cv with {k_outer} outer-folds and {k_inner} inner-folds.\\n\")\n",
    "print(\"OUTER CV | BEST OF INNER CV | CHOSEN PARAMS\")\n",
    "\n",
    "for train_ix, test_ix in cv_outer.split(X):\n",
    "\n",
    "    # split data\n",
    "    X_tr, X_te = X[train_ix, :], X[test_ix, :]\n",
    "    y_tr, y_te = y[train_ix], y[test_ix]\n",
    "\n",
    "    # define search\n",
    "    search = GridSearchCV(estimator=model, param_grid=param_grid, scoring=\"roc_auc\", cv=cv_inner, n_jobs=-1, verbose=1)\n",
    "    \n",
    "    # execute search\n",
    "    result = search.fit(X_tr, y_tr)\n",
    "        \n",
    "    # get the best performing model fit on the whole training set\n",
    "    best_model = result.best_estimator_\n",
    "\n",
    "    # evaluate model on the hold out dataset\n",
    "    # yhat = best_model.predict(X_te)\n",
    "    yhat = best_model.predict_proba(X_te)[:,1]\n",
    "\n",
    "    # evaluate the model\n",
    "    roc_auc = roc_auc_score(y_te, yhat)\n",
    "    \n",
    "    # store the result\n",
    "    roc_results.append(roc_auc)\n",
    "    found_params.append(result.best_params_)\n",
    "\n",
    "    # report progress\n",
    "    print(\">roc-auc=%.3f, est=%.3f, params=%s\" % (roc_auc, result.best_score_, result.best_params_))\n",
    "\n",
    "# summarize the estimated performance of the model\n",
    "print(\"ROC-AUC: %.3f (std = %.3f)\" % (np.mean(roc_results), np.std(roc_results)))"
   ]
  },
  {
   "cell_type": "markdown",
   "id": "71a79a77-d8a5-4848-9fef-9ff9bd3d7612",
   "metadata": {
    "tags": []
   },
   "source": [
    "### Results"
   ]
  },
  {
   "cell_type": "code",
   "execution_count": null,
   "id": "263763df-2517-4759-a4be-58f2a4679af9",
   "metadata": {},
   "outputs": [],
   "source": [
    "ncv_df = pd.DataFrame()\n",
    "ncv_df['roc_auc'] = roc_results\n",
    "# ncv_df['est'] = est_score\n",
    "ncv_df = pd.concat([ncv_df, pd.DataFrame(found_params)], axis=1)\n",
    "for i in range(len(found_params)):\n",
    "    if 'pca__conf__n_components' in found_params[i]:\n",
    "        ncv_df.loc[i, 'pca__conf__n_components'] = 'None'\n",
    "    if 'gb__max_depth' == None:\n",
    "        ncv_df.loc[i, 'gb__max_depth'] = 'None'\n",
    "\n",
    "ncv_df"
   ]
  },
  {
   "cell_type": "code",
   "execution_count": null,
   "id": "87669418-d155-4372-ab3d-bc3874ac94e6",
   "metadata": {},
   "outputs": [],
   "source": [
    "ncv_df[\"roc_auc\"].mean()"
   ]
  },
  {
   "cell_type": "code",
   "execution_count": null,
   "id": "bb5cc07c-9d15-4ee1-a1de-d1a4195662ed",
   "metadata": {},
   "outputs": [],
   "source": [
    "ncv_df[\"roc_auc\"].std()"
   ]
  },
  {
   "cell_type": "code",
   "execution_count": 8,
   "id": "f3a252eb-3a9d-426d-8be5-9766a4b16fd7",
   "metadata": {},
   "outputs": [],
   "source": [
    "ncv_df.to_csv(\"./data/hgb_ncv.csv\")"
   ]
  },
  {
   "cell_type": "code",
   "execution_count": null,
   "id": "06c62a56-aa28-4f23-ac6c-d6b2c544439c",
   "metadata": {},
   "outputs": [],
   "source": [
    "# from math import isnan\n",
    "# ncv_df = pd.read_csv(\"./data/hgb_ncv.csv\", index_col=0)\n",
    "# for i in range(len(ncv_df.index)):\n",
    "#     # if 'pca__conf__n_components' in found_params[i]:\n",
    "#     #     ncv_df.loc[i, 'pca__conf__n_components'] = 'None'\n",
    "#     if isnan(ncv_df.loc[i, 'gb__max_depth']):\n",
    "#         ncv_df.loc[i, 'gb__max_depth'] = 'None'\n",
    "# ncv_df.to_csv"
   ]
  },
  {
   "cell_type": "code",
   "execution_count": null,
   "id": "7e051c05-bb44-4824-b27f-d0d1f840f639",
   "metadata": {},
   "outputs": [],
   "source": []
  }
 ],
 "metadata": {
  "kernelspec": {
   "display_name": "Python 3 (ipykernel)",
   "language": "python",
   "name": "python3"
  },
  "language_info": {
   "codemirror_mode": {
    "name": "ipython",
    "version": 3
   },
   "file_extension": ".py",
   "mimetype": "text/x-python",
   "name": "python",
   "nbconvert_exporter": "python",
   "pygments_lexer": "ipython3",
   "version": "3.8.11"
  }
 },
 "nbformat": 4,
 "nbformat_minor": 5
}
