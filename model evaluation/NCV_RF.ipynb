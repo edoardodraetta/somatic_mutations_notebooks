{
 "cells": [
  {
   "cell_type": "code",
   "execution_count": null,
   "id": "7c75560e-7224-4357-84da-ee6ce5226c07",
   "metadata": {},
   "outputs": [],
   "source": [
    "import matplotlib.pyplot as plt\n",
    "import numpy as np\n",
    "import pandas as pd\n",
    "import seaborn as sns\n",
    "from sklearn import set_config\n",
    "\n",
    "pd.set_option(\"display.max_columns\", 85)\n",
    "sns.set_theme(context=\"paper\", font_scale=1.5, style=\"ticks\", rc={\"axes.grid\": True})\n",
    "set_config(display=\"diagram\")"
   ]
  },
  {
   "cell_type": "markdown",
   "id": "98e182a2-baf0-4140-a288-8d12aa70679a",
   "metadata": {
    "tags": []
   },
   "source": [
    "# Random Forest: Scoring by Nested Cross-Validation"
   ]
  },
  {
   "cell_type": "markdown",
   "id": "840404b8-4b62-4bf4-9e39-3880aa0f664e",
   "metadata": {
    "tags": []
   },
   "source": [
    "### Load data"
   ]
  },
  {
   "cell_type": "code",
   "execution_count": null,
   "id": "5ea0cce5-9ba9-4972-88cf-0dd407e76d06",
   "metadata": {},
   "outputs": [],
   "source": [
    "# Read Data (NEW from PP)\n",
    "df = pd.read_csv(\"../data/new_abnormal_writeout_noscale.data.csv\", index_col=0)\n",
    "\n",
    "# Drop NaNs\n",
    "df.dropna(inplace=True)\n",
    "\n",
    "# Collect Features and Labels\n",
    "features_df = pd.DataFrame()\n",
    "conf = df.drop(labels=[\"response\", \"occ_total_sum\", \"oldest_phylostratum\"], axis=1)\n",
    "\n",
    "features_df[\"occ_total_sum\"] = df[\"occ_total_sum\"]\n",
    "features_df[\"oldest_phylostratum\"] = df[\"oldest_phylostratum\"]\n",
    "features_df = pd.concat([features_df, conf], axis=1)\n",
    "\n",
    "X = features_df.to_numpy()\n",
    "y = df[\"response\"].to_numpy()\n",
    "\n",
    "features_df"
   ]
  },
  {
   "cell_type": "markdown",
   "id": "4630cf03-6ea2-4233-9b13-4f595809302f",
   "metadata": {
    "tags": []
   },
   "source": [
    "### Custom Scoring: Area Under Precision Recall Curve"
   ]
  },
  {
   "cell_type": "code",
   "execution_count": 16,
   "id": "edd29d67-dbdd-4953-bf35-9fcbb6f22d91",
   "metadata": {},
   "outputs": [],
   "source": [
    "from sklearn.metrics import auc, make_scorer, precision_recall_curve\n",
    "\n",
    "def auprc(y_true, y_scores, **kwargs):\n",
    "    \"\"\" Remember to use make_scorer(auprc, needs_proba=True,) when feeding to SKL's GSCV.\"\"\"\n",
    "    precisions, recalls, thresholds = precision_recall_curve(y_true, y_scores)\n",
    "    # results is area under x=Recall and y=Precision curve. \n",
    "    return auc(recalls, precisions)"
   ]
  },
  {
   "cell_type": "markdown",
   "id": "dca6e368-4612-4b95-9a88-bb04b34c6e76",
   "metadata": {
    "tags": []
   },
   "source": [
    "*** \n",
    "## Nested CV on RF"
   ]
  },
  {
   "cell_type": "markdown",
   "id": "ebce579e-bec5-4a86-a24d-ec0ecfe57f89",
   "metadata": {
    "tags": []
   },
   "source": [
    "### The Model and its Parameter Space"
   ]
  },
  {
   "cell_type": "code",
   "execution_count": null,
   "id": "a49cefc0-14fb-4cff-b94d-73ad35bf6b56",
   "metadata": {},
   "outputs": [],
   "source": [
    "from imblearn.ensemble import BalancedRandomForestClassifier\n",
    "from sklearn.compose import ColumnTransformer\n",
    "from sklearn.decomposition import PCA\n",
    "from sklearn.pipeline import Pipeline\n",
    "from sklearn.preprocessing import StandardScaler\n",
    "\n",
    "# Confounder PCA as ColumnTransformer\n",
    "confpca = ColumnTransformer([\n",
    "    (\"ots+of\", \"passthrough\", [0, 1]), \n",
    "    (\"conf\", PCA(), slice(2, X.shape[1]))\n",
    "])\n",
    "\n",
    "# Parameter Grid\n",
    "main_params = {\n",
    "    \"rf__min_samples_leaf\": [1, 5, 20,],\n",
    "    \"rf__min_samples_split\": [2, 5, 20],\n",
    "    \"rf__max_depth\": [None, 5, 10, 20],\n",
    "    # \"rf__max_features\": ['sqrt', None],\n",
    "    \"rf__n_estimators\": [100, 300, 1000],\n",
    "}\n",
    "\n",
    "pca_on = {'pca': [confpca], 'pca__conf__n_components': [None, 0.95]}\n",
    "pca_off = {'pca': ['passthrough'],}\n",
    "\n",
    "param_grid = [{**main_params, **pca_on}, {**main_params, **pca_off}]\n",
    "\n",
    "# Model as Pipeline\n",
    "rf_clf = Pipeline([\n",
    "    ('scaler', StandardScaler()),\n",
    "    (\"pca\", confpca), \n",
    "    (\"rf\", BalancedRandomForestClassifier(n_jobs=1, max_features=\"sqrt\"))\n",
    "])\n",
    "\n",
    "rf_clf"
   ]
  },
  {
   "cell_type": "markdown",
   "id": "979fe923-b414-4db0-b100-fc287aa0d83b",
   "metadata": {
    "tags": []
   },
   "source": [
    "### Nested CV"
   ]
  },
  {
   "cell_type": "code",
   "execution_count": null,
   "id": "4ef4d9c4-cc3c-4aca-a29d-81393daea39f",
   "metadata": {
    "tags": []
   },
   "outputs": [],
   "source": [
    "from sklearn.metrics import roc_auc_score\n",
    "from sklearn.model_selection import GridSearchCV, KFold, RepeatedKFold\n",
    "from joblib import dump, load\n",
    "\n",
    "# configure the cross-validation procedure\n",
    "np.random.seed(42)\n",
    "model = rf_clf\n",
    "k_outer = 10\n",
    "k_inner = 3\n",
    "cv_outer = KFold(n_splits=k_outer, shuffle=True)\n",
    "cv_inner = KFold(n_splits=k_inner, shuffle=True)\n",
    "\n",
    "# To store results\n",
    "roc_results = []\n",
    "prc_results = []\n",
    "found_params = []\n",
    "est_score = []\n",
    "\n",
    "print(f\"Performing nested-cv with {k_outer} outer-folds and {k_inner} inner-folds.\\n\")\n",
    "print(\"OUTER CV | BEST OF INNER CV | CHOSEN PARAMS\")\n",
    "\n",
    "i = 0 # quick fix for filenaming\n",
    "for train_ix, test_ix in cv_outer.split(X):\n",
    "\n",
    "    # split data\n",
    "    X_tr, X_te = X[train_ix, :], X[test_ix, :]\n",
    "    y_tr, y_te = y[train_ix], y[test_ix]\n",
    "    \n",
    "    # define and execute the search\n",
    "    search = GridSearchCV(estimator=model, param_grid=param_grid, scoring=\"roc_auc\", cv=cv_inner, n_jobs=-1)\n",
    "    result = search.fit(X_tr, y_tr)\n",
    "        \n",
    "    # get the best performing model fit on the whole training set\n",
    "    best_model = result.best_estimator_\n",
    "\n",
    "    # evaluate model on the hold out dataset\n",
    "    # yhat = best_model.predict(X_te)\n",
    "    yhat = best_model.predict_log_proba(X_te)[:,1]\n",
    "\n",
    "    # evaluate the model\n",
    "    roc_auc = roc_auc_score(y_te, yhat)\n",
    "    prc_auc = auprc(y_te, yhat)\n",
    "    \n",
    "    # store the result\n",
    "    roc_results.append(roc_auc)\n",
    "    prc_results.append(prc_auc)\n",
    "    found_params.append(result.best_params_)\n",
    "    est_score.append(result.best_score_)\n",
    "    \n",
    "    # report progress\n",
    "    print(\">roc-auc=%.3f, est=%.3f, params=%s\" % (roc_auc, result.best_score_, result.best_params_))\n",
    "\n",
    "\n",
    "# summarize the estimated performance of the model\n",
    "print(\"\\nROC-AUC: %.4f (std = %.4f)\" % (np.mean(roc_results), np.std(roc_results)))"
   ]
  },
  {
   "cell_type": "markdown",
   "id": "c0c126dd-09d8-45c5-b90b-280384b19f29",
   "metadata": {
    "tags": []
   },
   "source": [
    "### Results"
   ]
  },
  {
   "cell_type": "code",
   "execution_count": null,
   "id": "b20c8e43-1d64-4674-bbd3-783228cde6db",
   "metadata": {},
   "outputs": [],
   "source": [
    "from math import isnan\n",
    "ncv_df = pd.DataFrame()\n",
    "ncv_df['roc_auc'] = roc_results\n",
    "ncv_df['pr_auc'] = pr_results\n",
    "\n",
    "\n",
    "ncv_df['est'] = est_score\n",
    "ncv_df = pd.concat([ncv_df, pd.DataFrame(found_params)], axis=1)\n",
    "for i in range(len(found_params)):\n",
    "    if 'pca__conf__n_components' in found_params[i]:\n",
    "        ncv_df.loc[i, 'pca__conf__n_components'] = 'None'\n",
    "    if isnan(ncv_df.loc[i, 'rf__max_depth']):\n",
    "        ncv_df.loc[i, 'rf__max_depth'] = 'None'\n",
    "ncv_df"
   ]
  },
  {
   "cell_type": "code",
   "execution_count": null,
   "id": "ccef4b49-a584-44cf-b91d-b5aa2c0a921b",
   "metadata": {},
   "outputs": [],
   "source": [
    "ncv_df[\"roc_auc\"].mean()"
   ]
  },
  {
   "cell_type": "code",
   "execution_count": null,
   "id": "137857f4-2b5e-4525-bf66-f3bd229d3593",
   "metadata": {},
   "outputs": [],
   "source": [
    "ncv_df.to_csv(\"./results/rf_ncv.csv\")"
   ]
  },
  {
   "cell_type": "code",
   "execution_count": null,
   "id": "a1e89f80-0bd0-4782-a21a-05267c67a68b",
   "metadata": {},
   "outputs": [],
   "source": [
    "ncv_df = pd.read_csv(\"./results/rf_ncv.csv\")\n",
    "ncv_df"
   ]
  },
  {
   "cell_type": "code",
   "execution_count": null,
   "id": "78bda0ec-4c5c-4986-9da2-a1265a3e7b90",
   "metadata": {},
   "outputs": [],
   "source": [
    "ncv_df[\"roc_auc\"].mean()"
   ]
  },
  {
   "cell_type": "code",
   "execution_count": null,
   "id": "700fc9f1-34d7-4adc-b27a-9c3b0b726657",
   "metadata": {},
   "outputs": [],
   "source": [
    "ncv_df[\"roc_auc\"].std()"
   ]
  },
  {
   "cell_type": "code",
   "execution_count": null,
   "id": "b8efec74-3a80-44cd-a5a3-16d5d09e69dc",
   "metadata": {},
   "outputs": [],
   "source": []
  },
  {
   "cell_type": "code",
   "execution_count": null,
   "id": "8c80df0e-bd73-4081-8107-05cc0cf0d6ce",
   "metadata": {},
   "outputs": [],
   "source": []
  }
 ],
 "metadata": {
  "kernelspec": {
   "display_name": "Python 3 (ipykernel)",
   "language": "python",
   "name": "python3"
  },
  "language_info": {
   "codemirror_mode": {
    "name": "ipython",
    "version": 3
   },
   "file_extension": ".py",
   "mimetype": "text/x-python",
   "name": "python",
   "nbconvert_exporter": "python",
   "pygments_lexer": "ipython3",
   "version": "3.8.11"
  }
 },
 "nbformat": 4,
 "nbformat_minor": 5
}
