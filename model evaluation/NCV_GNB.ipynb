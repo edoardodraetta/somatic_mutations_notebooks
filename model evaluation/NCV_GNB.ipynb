{
 "cells": [
  {
   "cell_type": "code",
   "execution_count": null,
   "id": "8d433714-e3fb-409b-bd48-1a37cce3afe0",
   "metadata": {},
   "outputs": [],
   "source": [
    "import matplotlib.pyplot as plt\n",
    "import numpy as np\n",
    "import pandas as pd\n",
    "import seaborn as sns\n",
    "from sklearn import set_config\n",
    "\n",
    "pd.set_option(\"display.max_columns\", 85)\n",
    "sns.set_theme(context=\"paper\", font_scale=1.5, style=\"ticks\", rc={\"axes.grid\": True})\n",
    "set_config(display=\"diagram\")"
   ]
  },
  {
   "cell_type": "markdown",
   "id": "6bff2dd5-4ab3-4e37-abdc-db9a97c75a6b",
   "metadata": {
    "tags": []
   },
   "source": [
    "# Naive Bayes: Scoring by Nested Cross-Validation"
   ]
  },
  {
   "cell_type": "markdown",
   "id": "0a184902-40a2-470b-a7a6-30ccb7cc2fb9",
   "metadata": {
    "tags": []
   },
   "source": [
    "### Load data"
   ]
  },
  {
   "cell_type": "code",
   "execution_count": null,
   "id": "d15a82a9-16f1-4912-87ea-a16477e4df9e",
   "metadata": {},
   "outputs": [],
   "source": [
    "# Read Data (NEW from PP)\n",
    "df = pd.read_csv(\"../data/new_abnormal_writeout_noscale.data.csv\", index_col=0)\n",
    "\n",
    "# Drop NaNs\n",
    "df.dropna(inplace=True)\n",
    "\n",
    "# Collect Features and Labels\n",
    "features_df = pd.DataFrame()\n",
    "conf = df.drop(labels=[\"response\", \"occ_total_sum\", \"oldest_phylostratum\"], axis=1)\n",
    "\n",
    "features_df[\"occ_total_sum\"] = df[\"occ_total_sum\"]\n",
    "features_df[\"oldest_phylostratum\"] = df[\"oldest_phylostratum\"]\n",
    "features_df = pd.concat([features_df, conf], axis=1)\n",
    "\n",
    "X = features_df.to_numpy()\n",
    "y = df[\"response\"].to_numpy()\n",
    "\n",
    "features_df"
   ]
  },
  {
   "cell_type": "markdown",
   "id": "30957900-975e-4ff0-acf7-0b657ac72b94",
   "metadata": {
    "tags": []
   },
   "source": [
    "*** \n",
    "## Nested CV"
   ]
  },
  {
   "cell_type": "markdown",
   "id": "3e90a9a9-f1a3-4d65-bba3-89e987b5daa0",
   "metadata": {
    "tags": []
   },
   "source": [
    "### The Model and its Parameter Space"
   ]
  },
  {
   "cell_type": "code",
   "execution_count": null,
   "id": "e8e77b62-c119-415c-be00-bac6362f79b7",
   "metadata": {},
   "outputs": [],
   "source": [
    "from sklearn.pipeline import Pipeline\n",
    "from sklearn.preprocessing import StandardScaler\n",
    "from sklearn.compose import ColumnTransformer\n",
    "from sklearn.decomposition import PCA\n",
    "from  sklearn.naive_bayes import GaussianNB\n",
    "\n",
    "# Confounder PCA as ColumnTransformer()\n",
    "confpca = ColumnTransformer([\n",
    "    (\"ots+of\", \"passthrough\", [0, 1]), \n",
    "    (\"conf\", PCA(), slice(2, X.shape[1]))\n",
    "])\n",
    "\n",
    "# Parameter Combinations\n",
    "main_params = {\n",
    "    # \"lr__C\": np.logspace(-3, 4, 7),\n",
    "    # \"lr__class_weight\": [None, \"balanced\"],\n",
    "}\n",
    "\n",
    "pca_on = {'pca': [confpca], 'pca__conf__n_components': [None, 0.95]}\n",
    "pca_off = {'pca': ['passthrough'],}\n",
    "\n",
    "param_grid = [{**main_params, **pca_on}, {**main_params, **pca_off}]\n",
    "\n",
    "# Model as Pipeline\n",
    "gnb_clf = Pipeline([\n",
    "    (\"scaler\", StandardScaler()),\n",
    "    (\"pca\", confpca),\n",
    "    (\"gnb\", GaussianNB()),\n",
    "])\n",
    "\n",
    "gnb_clf"
   ]
  },
  {
   "cell_type": "markdown",
   "id": "683c4dba-cef3-4e1e-ac86-04dcf64ceed1",
   "metadata": {
    "tags": []
   },
   "source": [
    "### Nested CV"
   ]
  },
  {
   "cell_type": "code",
   "execution_count": null,
   "id": "75220994-2bd0-47d4-bbad-687379b8d94d",
   "metadata": {
    "tags": []
   },
   "outputs": [],
   "source": [
    "from sklearn.metrics import roc_auc_score\n",
    "from sklearn.model_selection import GridSearchCV, KFold, RepeatedKFold\n",
    "\n",
    "# configure the cross-validation procedure\n",
    "np.random.seed(42)\n",
    "model = gnb_clf\n",
    "k_outer = 10\n",
    "k_inner = 3\n",
    "cv_outer = KFold(n_splits=k_outer, shuffle=True)\n",
    "cv_inner = KFold(n_splits=k_inner, shuffle=True)\n",
    "\n",
    "# To store results\n",
    "roc_results = list()\n",
    "found_params = list()\n",
    "est_score = list()\n",
    "\n",
    "print(f\"Performing nested-cv with {k_outer} outer-folds and {k_inner} inner-folds.\\n\")\n",
    "print(\"OUTER CV | BEST OF INNER CV | CHOSEN PARAMS\")\n",
    "\n",
    "for train_ix, test_ix in cv_outer.split(X):\n",
    "\n",
    "    # split data\n",
    "    X_tr, X_te = X[train_ix, :], X[test_ix, :]\n",
    "    y_tr, y_te = y[train_ix], y[test_ix]\n",
    "    \n",
    "    # define and execute the search\n",
    "    search = GridSearchCV(estimator=model, param_grid=param_grid, scoring=\"roc_auc\", cv=cv_inner, n_jobs=8)\n",
    "    result = search.fit(X_tr, y_tr)\n",
    "        \n",
    "    # get the best performing model fit on the whole training set\n",
    "    best_model = result.best_estimator_\n",
    "\n",
    "    # evaluate model on the hold out dataset\n",
    "    # yhat = best_model.predict(X_te)\n",
    "    yhat = best_model.predict_log_proba(X_te)[:,1]\n",
    "\n",
    "    # evaluate the model\n",
    "    roc_auc = roc_auc_score(y_te, yhat)\n",
    "    \n",
    "    # store the result\n",
    "    roc_results.append(roc_auc)\n",
    "    found_params.append(result.best_params_)\n",
    "    est_score.append(result.best_score_)\n",
    "\n",
    "    # report progress\n",
    "    print(\">roc-auc=%.3f, est=%.3f, params=%s\" % (roc_auc, result.best_score_, result.best_params_))\n",
    "\n",
    "# summarize the estimated performance of the model\n",
    "print(\"\\nROC-AUC: %.5f (std = %.5f)\" % (np.mean(roc_results), np.std(roc_results)))"
   ]
  },
  {
   "cell_type": "markdown",
   "id": "9fae7c20-871d-437a-aa45-3cca1c173e9b",
   "metadata": {
    "tags": []
   },
   "source": [
    "### Results"
   ]
  },
  {
   "cell_type": "code",
   "execution_count": null,
   "id": "c286417f-cf79-4a25-ac50-a6909e232471",
   "metadata": {},
   "outputs": [],
   "source": [
    "ncv_df = pd.DataFrame()\n",
    "ncv_df['roc_auc'] = roc_results\n",
    "ncv_df['est'] = est_score\n",
    "ncv_df = pd.concat([ncv_df, pd.DataFrame(found_params)], axis=1)\n",
    "for i in range(len(found_params)):\n",
    "    if 'pca__conf__n_components' in found_params[i]:\n",
    "        ncv_df.loc[i, 'pca__conf__n_components'] = 'None'\n",
    "ncv_df"
   ]
  },
  {
   "cell_type": "code",
   "execution_count": null,
   "id": "04e9ced0-6ad3-476f-957c-9c445eb73b5d",
   "metadata": {},
   "outputs": [],
   "source": [
    "ncv_df[\"roc_auc\"].mean()"
   ]
  },
  {
   "cell_type": "code",
   "execution_count": null,
   "id": "98b555dd-d016-4cdd-8444-d54402a5fabb",
   "metadata": {},
   "outputs": [],
   "source": [
    "ncv_df[\"roc_auc\"].std()"
   ]
  },
  {
   "cell_type": "code",
   "execution_count": null,
   "id": "a24258c4-58cc-4755-b34d-7082f5dbc892",
   "metadata": {},
   "outputs": [],
   "source": [
    "ncv_df.to_csv(\"./data/gnb_ncv.csv\")"
   ]
  }
 ],
 "metadata": {
  "kernelspec": {
   "display_name": "Python 3 (ipykernel)",
   "language": "python",
   "name": "python3"
  },
  "language_info": {
   "codemirror_mode": {
    "name": "ipython",
    "version": 3
   },
   "file_extension": ".py",
   "mimetype": "text/x-python",
   "name": "python",
   "nbconvert_exporter": "python",
   "pygments_lexer": "ipython3",
   "version": "3.8.11"
  }
 },
 "nbformat": 4,
 "nbformat_minor": 5
}
